{
  "nbformat": 4,
  "nbformat_minor": 0,
  "metadata": {
    "colab": {
      "provenance": []
    },
    "kernelspec": {
      "name": "python3",
      "display_name": "Python 3"
    },
    "language_info": {
      "name": "python"
    }
  },
  "cells": [
    {
      "cell_type": "markdown",
      "source": [
        "Instalación de librerías y pre-requisitos:"
      ],
      "metadata": {
        "id": "9Y-dZBtdAv1C"
      }
    },
    {
      "cell_type": "code",
      "execution_count": 1,
      "metadata": {
        "id": "Z9CaIgkuOOsS"
      },
      "outputs": [],
      "source": [
        "import pandas as pd\n",
        "from prettytable import PrettyTable\n"
      ]
    },
    {
      "cell_type": "markdown",
      "source": [
        "Carga de datos en DataFrames:"
      ],
      "metadata": {
        "id": "w9yqFuEH_Z71"
      }
    },
    {
      "cell_type": "code",
      "source": [
        "df_indices = pd.read_csv(\"indices.csv\", sep=\";\")\n",
        "df_estructuras = pd.read_csv(\"estructuras.csv\", sep=\";\")\n",
        "df_resultados = pd.read_csv(\"resultados.csv\", sep=\";\")\n"
      ],
      "metadata": {
        "id": "LdCvn7u6cJZ-"
      },
      "execution_count": 2,
      "outputs": []
    },
    {
      "cell_type": "markdown",
      "source": [
        "Preprocesamiento de los DataFrames:"
      ],
      "metadata": {
        "id": "-826KXFoASIf"
      }
    },
    {
      "cell_type": "code",
      "source": [
        "dic_headers = {}\n",
        "\n",
        "dic_headers['df_indices'] = df_indices.columns.tolist()\n",
        "dic_headers['df_estructuras'] = df_estructuras.columns.tolist()\n",
        "dic_headers['df_resultados'] = df_resultados.columns.tolist()\n"
      ],
      "metadata": {
        "id": "ZneQKhc7U9hQ"
      },
      "execution_count": 3,
      "outputs": []
    },
    {
      "cell_type": "code",
      "source": [
        "def formatear_a_float(x):\n",
        "  x = x.str.replace('.', '', regex=False)\n",
        "  x = x.str.replace(',', '.', regex=False)\n",
        "  x = x.astype(float)\n",
        "\n",
        "  return x\n",
        "\n",
        "for clave in dic_headers:\n",
        "  header = dic_headers[clave]\n",
        "  df = globals()[clave]\n",
        "\n",
        "  for i in range (len(header)):\n",
        "    nombre_col = header[i]\n",
        "\n",
        "    df[nombre_col] = df[nombre_col].astype(str)\n",
        "    df[nombre_col] = df[nombre_col].str.strip()\n",
        "\n",
        "    match clave:\n",
        "      case 'df_indices':\n",
        "        if i >= 3:\n",
        "          df[nombre_col] = formatear_a_float(df[nombre_col])\n",
        "\n",
        "      case 'df_estructuras':\n",
        "        if nombre_col == 'Ponderación':\n",
        "          df[nombre_col] = df[nombre_col].str.replace('%', '', regex=False)\n",
        "          df[nombre_col] = df[nombre_col].astype(float)\n",
        "          df[nombre_col] = df[nombre_col].apply(lambda x: x / 100)\n",
        "\n",
        "      case 'df_resultados':\n",
        "        if i != 0:\n",
        "          df[nombre_col] = formatear_a_float(df[nombre_col])\n"
      ],
      "metadata": {
        "id": "tVKXqTQpcE0K"
      },
      "execution_count": 4,
      "outputs": []
    },
    {
      "cell_type": "markdown",
      "source": [
        "Procesamiento y análisis:"
      ],
      "metadata": {
        "id": "aPI0zSaqqGml"
      }
    },
    {
      "cell_type": "code",
      "source": [
        "dic_ponderaciones = {}\n",
        "\n",
        "for i in range (len(df_estructuras)):\n",
        "  nombre = df_estructuras.iloc[i, 2]\n",
        "  ponderacion = df_estructuras.iloc[i, 3]\n",
        "\n",
        "  dic_ponderaciones[nombre] = ponderacion\n",
        "\n",
        "print(dic_ponderaciones)\n"
      ],
      "metadata": {
        "colab": {
          "base_uri": "https://localhost:8080/"
        },
        "id": "-io3aoi4-P0k",
        "outputId": "2cc3dff5-6426-4393-9299-b7c79929e73d"
      },
      "execution_count": 5,
      "outputs": [
        {
          "output_type": "stream",
          "name": "stdout",
          "text": [
            "{'Productos lácteos': 0.15, 'Harinas': 0.05, 'Bebidas no alcohólicas': 0.3, 'Productos de carnes, pescados, frutas, legumbres, hortalizas y aceites': 0.5, 'Otros productos textiles': 0.3, 'Tejidos y artículos de punto': 0.1, 'Cuero, artículos de marroquinería y calzado': 0.52, 'Productos textiles': 0.08, 'Papel y productos de papel': 0.8, 'Envases de papel y cartón': 0.18, 'Otros artículos de papel y cartón': 0.02, 'Madera y productos de madera excepto muebles': 0.3, 'Sustancias químicas básicas': 0.25, 'Abonos y fertilizantes': 0.45}\n"
          ]
        }
      ]
    },
    {
      "cell_type": "code",
      "source": [
        "dic_acum23 = {}\n",
        "\n",
        "for i in range (len(df_estructuras)):\n",
        "  nombre = df_estructuras.iloc[i, 2]\n",
        "  num_fila = df_indices.index[df_indices['Nombre'] == nombre].to_numpy()[0]\n",
        "\n",
        "  acum23: float = 0\n",
        "  for j in range (4, len(df_indices.columns)):\n",
        "    acum23 += df_indices.iloc[num_fila, j]\n",
        "\n",
        "  dic_acum23[nombre] = acum23\n",
        "\n",
        "print(dic_acum23)\n"
      ],
      "metadata": {
        "colab": {
          "base_uri": "https://localhost:8080/"
        },
        "id": "OxybWYwbBGv9",
        "outputId": "05e77790-e6f9-43e9-dfea-23534dbce954"
      },
      "execution_count": 6,
      "outputs": [
        {
          "output_type": "stream",
          "name": "stdout",
          "text": [
            "{'Productos lácteos': 31591.77, 'Harinas': 33446.42, 'Bebidas no alcohólicas': 27501.980000000003, 'Productos de carnes, pescados, frutas, legumbres, hortalizas y aceites': 22421.34, 'Otros productos textiles': 26288.65, 'Tejidos y artículos de punto': 28345.95, 'Cuero, artículos de marroquinería y calzado': 30737.340000000004, 'Productos textiles': 33584.10999999999, 'Papel y productos de papel': 41229.700000000004, 'Envases de papel y cartón': 42684.44999999999, 'Otros artículos de papel y cartón': 29414.55, 'Madera y productos de madera excepto muebles': 29773.629999999997, 'Sustancias químicas básicas': 38937.15000000001, 'Abonos y fertilizantes': 31207.96}\n"
          ]
        }
      ]
    },
    {
      "cell_type": "code",
      "source": [
        "df_desglose = pd.DataFrame({\n",
        "    'Concepto': [],\n",
        "    'Índice': [],\n",
        "    'Ponderación': [],\n",
        "    'Acum 2023': [],\n",
        "    'Acum 2023 x Ponderación': []\n",
        "})\n",
        "\n",
        "for i in range (len(df_estructuras)):\n",
        "  concepto = df_estructuras.iloc[i, 0]\n",
        "  indice = df_estructuras.iloc[i, 2]\n",
        "  ponderacion = dic_ponderaciones[indice]\n",
        "  acum23 = dic_acum23[indice]\n",
        "  acum23_ponderado = acum23 * ponderacion\n",
        "\n",
        "  df_desglose.loc[i] = [concepto, indice, ponderacion, acum23, acum23_ponderado]\n",
        "\n",
        "df_desglose['Acum 2023'] = df_desglose['Acum 2023'].round(2)\n",
        "df_desglose['Acum 2023 x Ponderación'] = df_desglose['Acum 2023 x Ponderación'].round(2)\n",
        "\n",
        "df_desglose = df_desglose.sort_values(by=['Concepto', 'Índice'], ascending=[True, True])\n",
        "df_desglose = df_desglose.reset_index(drop=True)\n",
        "\n",
        "#print(df_desglose)\n"
      ],
      "metadata": {
        "id": "JyDszLRY5prN"
      },
      "execution_count": 7,
      "outputs": []
    },
    {
      "cell_type": "code",
      "source": [
        "# Agrupar por 'Concepto'\n",
        "conceptos = df_desglose['Concepto'].unique()\n",
        "\n",
        "for concepto in conceptos:\n",
        "    tabla = PrettyTable(['Índice', 'Ponderación', 'Acum 2023', 'Acum 2023 x Ponderación'])\n",
        "\n",
        "    subgrupo = df_desglose[df_desglose['Concepto'] == concepto]\n",
        "\n",
        "    for _, row in subgrupo.iterrows():\n",
        "        tabla.add_row([row['Índice'], row['Ponderación'], row['Acum 2023'], row['Acum 2023 x Ponderación']])\n",
        "\n",
        "    print(f\"\\nConcepto: {concepto}\")\n",
        "    print(tabla)\n"
      ],
      "metadata": {
        "colab": {
          "base_uri": "https://localhost:8080/"
        },
        "id": "kJg3-HoCZLWO",
        "outputId": "2f82f0fb-059e-4efe-8d2d-2d5e0f8d6ca2"
      },
      "execution_count": 8,
      "outputs": [
        {
          "output_type": "stream",
          "name": "stdout",
          "text": [
            "\n",
            "Concepto: Cartoneros\n",
            "+-----------------------------------+-------------+-----------+-------------------------+\n",
            "|               Índice              | Ponderación | Acum 2023 | Acum 2023 x Ponderación |\n",
            "+-----------------------------------+-------------+-----------+-------------------------+\n",
            "|     Envases de papel y cartón     |     0.18    |  42684.45 |          7683.2         |\n",
            "| Otros artículos de papel y cartón |     0.02    |  29414.55 |          588.29         |\n",
            "|     Papel y productos de papel    |     0.8     |  41229.7  |         32983.76        |\n",
            "+-----------------------------------+-------------+-----------+-------------------------+\n",
            "\n",
            "Concepto: Comedores\n",
            "+------------------------------------------------------------------------+-------------+-----------+-------------------------+\n",
            "|                                 Índice                                 | Ponderación | Acum 2023 | Acum 2023 x Ponderación |\n",
            "+------------------------------------------------------------------------+-------------+-----------+-------------------------+\n",
            "|                         Bebidas no alcohólicas                         |     0.3     |  27501.98 |         8250.59         |\n",
            "|                                Harinas                                 |     0.05    |  33446.42 |         1672.32         |\n",
            "| Productos de carnes, pescados, frutas, legumbres, hortalizas y aceites |     0.5     |  22421.34 |         11210.67        |\n",
            "|                           Productos lácteos                            |     0.15    |  31591.77 |         4738.77         |\n",
            "+------------------------------------------------------------------------+-------------+-----------+-------------------------+\n",
            "\n",
            "Concepto: Espacios Verdes\n",
            "+----------------------------------------------+-------------+-----------+-------------------------+\n",
            "|                    Índice                    | Ponderación | Acum 2023 | Acum 2023 x Ponderación |\n",
            "+----------------------------------------------+-------------+-----------+-------------------------+\n",
            "|            Abonos y fertilizantes            |     0.45    |  31207.96 |         14043.58        |\n",
            "| Madera y productos de madera excepto muebles |     0.3     |  29773.63 |         8932.09         |\n",
            "|         Sustancias químicas básicas          |     0.25    |  38937.15 |         9734.29         |\n",
            "+----------------------------------------------+-------------+-----------+-------------------------+\n",
            "\n",
            "Concepto: Vestimenta\n",
            "+---------------------------------------------+-------------+-----------+-------------------------+\n",
            "|                    Índice                   | Ponderación | Acum 2023 | Acum 2023 x Ponderación |\n",
            "+---------------------------------------------+-------------+-----------+-------------------------+\n",
            "| Cuero, artículos de marroquinería y calzado |     0.52    |  30737.34 |         15983.42        |\n",
            "|           Otros productos textiles          |     0.3     |  26288.65 |          7886.6         |\n",
            "|              Productos textiles             |     0.08    |  33584.11 |         2686.73         |\n",
            "|         Tejidos y artículos de punto        |     0.1     |  28345.95 |          2834.6         |\n",
            "+---------------------------------------------+-------------+-----------+-------------------------+\n"
          ]
        }
      ]
    },
    {
      "cell_type": "code",
      "source": [
        "df_conceptos = pd.DataFrame({\n",
        "    'Concepto': [],\n",
        "    'Participación relativa (%)': [],\n",
        "    'Porcentaje de ejecución (%)': []\n",
        "})\n",
        "\n",
        "base_devengado_total = df_resultados['Devengado mensual'].sum()\n",
        "\n",
        "for i in range (len(df_resultados)):\n",
        "  concepto = df_resultados.iloc[i, 0]\n",
        "  devengado_mensual = df_resultados.iloc[i, 2]\n",
        "  area_devengar = df_resultados.iloc[i, 3]\n",
        "  monto_proyectado = df_resultados.iloc[i, 1]\n",
        "\n",
        "  participacion = devengado_mensual/base_devengado_total * 100\n",
        "  ejecucion = area_devengar/monto_proyectado * 100\n",
        "\n",
        "  df_conceptos.loc[i] = [concepto, participacion, ejecucion]\n",
        "\n",
        "df_conceptos['Participación relativa (%)'] = df_conceptos['Participación relativa (%)'].round(2)\n",
        "df_conceptos['Porcentaje de ejecución (%)'] = df_conceptos['Porcentaje de ejecución (%)'].round(2)\n",
        "\n",
        "df_conceptos = df_conceptos.sort_values(by=['Concepto'], ascending=[True])\n",
        "df_conceptos = df_conceptos.reset_index(drop=True)\n",
        "\n",
        "#print(df_conceptos)\n"
      ],
      "metadata": {
        "id": "r9aG_ZYZWsCn"
      },
      "execution_count": 9,
      "outputs": []
    },
    {
      "cell_type": "code",
      "source": [
        "tabla2 = PrettyTable()\n",
        "\n",
        "tabla2.field_names = df_conceptos.columns.tolist()\n",
        "\n",
        "for row in df_conceptos.itertuples(index=False):\n",
        "    tabla2.add_row(row)\n",
        "\n",
        "print(tabla2)"
      ],
      "metadata": {
        "colab": {
          "base_uri": "https://localhost:8080/"
        },
        "id": "iaAg9ipBrQh1",
        "outputId": "4e8f9628-b844-4794-f59a-8588618e8107"
      },
      "execution_count": 10,
      "outputs": [
        {
          "output_type": "stream",
          "name": "stdout",
          "text": [
            "+-----------------+----------------------------+-----------------------------+\n",
            "|     Concepto    | Participación relativa (%) | Porcentaje de ejecución (%) |\n",
            "+-----------------+----------------------------+-----------------------------+\n",
            "|    Cartoneros   |            0.15            |            91.57            |\n",
            "|    Comedores    |            0.65            |            99.89            |\n",
            "| Espacios Verdes |           96.67            |            97.12            |\n",
            "|    Vestimenta   |            2.54            |            99.99            |\n",
            "+-----------------+----------------------------+-----------------------------+\n"
          ]
        }
      ]
    }
  ]
}